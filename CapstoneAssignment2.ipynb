{
 "cells": [
  {
   "cell_type": "code",
   "execution_count": 102,
   "metadata": {},
   "outputs": [],
   "source": [
    "import pandas as pd\n",
    "import numpy as np\n"
   ]
  },
  {
   "cell_type": "markdown",
   "metadata": {},
   "source": [
    "# Capstone Project Assignment - Week3 -Part1"
   ]
  },
  {
   "cell_type": "markdown",
   "metadata": {},
   "source": [
    "### In this section, downloaded the required data 'Postal codes of Canada which starts with M' from wikipedia. I used pandas library to download the file. The downloaded data was in a table format and converted it to the required dataFrame format. Since the data contain many not assigned Boroughs and Neighborhoods, droped the not assigned Boroughs. For Not assigned Neighborhoods, assigned the name of Borough. For multiple neighborhoods of same Postcode, combined the neighborhoods. After cleansing the data, number of rows reduced to 103 from an initial number 288.       "
   ]
  },
  {
   "cell_type": "code",
   "execution_count": 112,
   "metadata": {},
   "outputs": [
    {
     "name": "stdout",
     "output_type": "stream",
     "text": [
      "(288, 3)\n",
      "  Postcode           Borough     Neighbourhood\n",
      "0      M1A      Not assigned      Not assigned\n",
      "1      M2A      Not assigned      Not assigned\n",
      "2      M3A        North York         Parkwoods\n",
      "3      M4A        North York  Victoria Village\n",
      "4      M5A  Downtown Toronto      Harbourfront\n",
      "5      M5A  Downtown Toronto       Regent Park\n",
      "6      M6A        North York  Lawrence Heights\n",
      "7      M6A        North York    Lawrence Manor\n",
      "8      M7A      Queen's Park      Not assigned\n",
      "9      M8A      Not assigned      Not assigned\n"
     ]
    }
   ],
   "source": [
    "#Read data from wikipedia\n",
    "wikilink=\"https://en.wikipedia.org/wiki/List_of_postal_codes_of_Canada:_M\"\n",
    "TWtable = pd.read_html(wikilink,header=0)\n",
    "TWdf=pd.DataFrame(TWtable[0])\n",
    "print(TWdf.shape)\n",
    "print(TWdf.head(10))"
   ]
  },
  {
   "cell_type": "code",
   "execution_count": 4,
   "metadata": {},
   "outputs": [
    {
     "name": "stdout",
     "output_type": "stream",
     "text": [
      "211\n"
     ]
    },
    {
     "data": {
      "text/html": [
       "<div>\n",
       "<style scoped>\n",
       "    .dataframe tbody tr th:only-of-type {\n",
       "        vertical-align: middle;\n",
       "    }\n",
       "\n",
       "    .dataframe tbody tr th {\n",
       "        vertical-align: top;\n",
       "    }\n",
       "\n",
       "    .dataframe thead th {\n",
       "        text-align: right;\n",
       "    }\n",
       "</style>\n",
       "<table border=\"1\" class=\"dataframe\">\n",
       "  <thead>\n",
       "    <tr style=\"text-align: right;\">\n",
       "      <th></th>\n",
       "      <th>Postcode</th>\n",
       "      <th>Borough</th>\n",
       "      <th>Neighbourhood</th>\n",
       "    </tr>\n",
       "  </thead>\n",
       "  <tbody>\n",
       "    <tr>\n",
       "      <th>0</th>\n",
       "      <td>M3A</td>\n",
       "      <td>North York</td>\n",
       "      <td>Parkwoods</td>\n",
       "    </tr>\n",
       "    <tr>\n",
       "      <th>1</th>\n",
       "      <td>M4A</td>\n",
       "      <td>North York</td>\n",
       "      <td>Victoria Village</td>\n",
       "    </tr>\n",
       "    <tr>\n",
       "      <th>2</th>\n",
       "      <td>M5A</td>\n",
       "      <td>Downtown Toronto</td>\n",
       "      <td>Harbourfront</td>\n",
       "    </tr>\n",
       "    <tr>\n",
       "      <th>3</th>\n",
       "      <td>M5A</td>\n",
       "      <td>Downtown Toronto</td>\n",
       "      <td>Regent Park</td>\n",
       "    </tr>\n",
       "    <tr>\n",
       "      <th>4</th>\n",
       "      <td>M6A</td>\n",
       "      <td>North York</td>\n",
       "      <td>Lawrence Heights</td>\n",
       "    </tr>\n",
       "    <tr>\n",
       "      <th>5</th>\n",
       "      <td>M6A</td>\n",
       "      <td>North York</td>\n",
       "      <td>Lawrence Manor</td>\n",
       "    </tr>\n",
       "    <tr>\n",
       "      <th>6</th>\n",
       "      <td>M7A</td>\n",
       "      <td>Queen's Park</td>\n",
       "      <td>Not assigned</td>\n",
       "    </tr>\n",
       "    <tr>\n",
       "      <th>7</th>\n",
       "      <td>M9A</td>\n",
       "      <td>Etobicoke</td>\n",
       "      <td>Islington Avenue</td>\n",
       "    </tr>\n",
       "    <tr>\n",
       "      <th>8</th>\n",
       "      <td>M1B</td>\n",
       "      <td>Scarborough</td>\n",
       "      <td>Rouge</td>\n",
       "    </tr>\n",
       "    <tr>\n",
       "      <th>9</th>\n",
       "      <td>M1B</td>\n",
       "      <td>Scarborough</td>\n",
       "      <td>Malvern</td>\n",
       "    </tr>\n",
       "    <tr>\n",
       "      <th>10</th>\n",
       "      <td>M3B</td>\n",
       "      <td>North York</td>\n",
       "      <td>Don Mills North</td>\n",
       "    </tr>\n",
       "    <tr>\n",
       "      <th>11</th>\n",
       "      <td>M4B</td>\n",
       "      <td>East York</td>\n",
       "      <td>Woodbine Gardens</td>\n",
       "    </tr>\n",
       "    <tr>\n",
       "      <th>12</th>\n",
       "      <td>M4B</td>\n",
       "      <td>East York</td>\n",
       "      <td>Parkview Hill</td>\n",
       "    </tr>\n",
       "    <tr>\n",
       "      <th>13</th>\n",
       "      <td>M5B</td>\n",
       "      <td>Downtown Toronto</td>\n",
       "      <td>Ryerson</td>\n",
       "    </tr>\n",
       "    <tr>\n",
       "      <th>14</th>\n",
       "      <td>M5B</td>\n",
       "      <td>Downtown Toronto</td>\n",
       "      <td>Garden District</td>\n",
       "    </tr>\n",
       "    <tr>\n",
       "      <th>15</th>\n",
       "      <td>M6B</td>\n",
       "      <td>North York</td>\n",
       "      <td>Glencairn</td>\n",
       "    </tr>\n",
       "    <tr>\n",
       "      <th>16</th>\n",
       "      <td>M9B</td>\n",
       "      <td>Etobicoke</td>\n",
       "      <td>Cloverdale</td>\n",
       "    </tr>\n",
       "    <tr>\n",
       "      <th>17</th>\n",
       "      <td>M9B</td>\n",
       "      <td>Etobicoke</td>\n",
       "      <td>Islington</td>\n",
       "    </tr>\n",
       "    <tr>\n",
       "      <th>18</th>\n",
       "      <td>M9B</td>\n",
       "      <td>Etobicoke</td>\n",
       "      <td>Martin Grove</td>\n",
       "    </tr>\n",
       "    <tr>\n",
       "      <th>19</th>\n",
       "      <td>M9B</td>\n",
       "      <td>Etobicoke</td>\n",
       "      <td>Princess Gardens</td>\n",
       "    </tr>\n",
       "  </tbody>\n",
       "</table>\n",
       "</div>"
      ],
      "text/plain": [
       "   Postcode           Borough     Neighbourhood\n",
       "0       M3A        North York         Parkwoods\n",
       "1       M4A        North York  Victoria Village\n",
       "2       M5A  Downtown Toronto      Harbourfront\n",
       "3       M5A  Downtown Toronto       Regent Park\n",
       "4       M6A        North York  Lawrence Heights\n",
       "5       M6A        North York    Lawrence Manor\n",
       "6       M7A      Queen's Park      Not assigned\n",
       "7       M9A         Etobicoke  Islington Avenue\n",
       "8       M1B       Scarborough             Rouge\n",
       "9       M1B       Scarborough           Malvern\n",
       "10      M3B        North York   Don Mills North\n",
       "11      M4B         East York  Woodbine Gardens\n",
       "12      M4B         East York     Parkview Hill\n",
       "13      M5B  Downtown Toronto           Ryerson\n",
       "14      M5B  Downtown Toronto   Garden District\n",
       "15      M6B        North York         Glencairn\n",
       "16      M9B         Etobicoke        Cloverdale\n",
       "17      M9B         Etobicoke         Islington\n",
       "18      M9B         Etobicoke      Martin Grove\n",
       "19      M9B         Etobicoke  Princess Gardens"
      ]
     },
     "execution_count": 4,
     "metadata": {},
     "output_type": "execute_result"
    }
   ],
   "source": [
    "# Data cleansing-part1\n",
    "# Drop all rows with Not Assigned Borough.\n",
    "TWdf.drop(TWdf[TWdf.Borough == 'Not assigned'].index, inplace=True)\n",
    "I=len(TWdf)\n",
    "print(I)\n",
    "TWdf.index=range(I)\n",
    "TWdf.head(20)"
   ]
  },
  {
   "cell_type": "code",
   "execution_count": 106,
   "metadata": {},
   "outputs": [
    {
     "name": "stdout",
     "output_type": "stream",
     "text": [
      "    Postcode       Borough                                      Neighbourhood\n",
      "83       M6R  West Toronto                             Parkdale, Roncesvalles\n",
      "84       M6S  West Toronto                                 Runnymede, Swansea\n",
      "85       M7A  Queen's Park                                       Not assigned\n",
      "86       M7R   Mississauga              Canada Post Gateway Processing Centre\n",
      "87       M7Y  East Toronto  Business Reply Mail Processing Centre 969 Eastern\n",
      "88       M8V     Etobicoke       Humber Bay Shores, Mimico South, New Toronto\n",
      "89       M8W     Etobicoke                             Alderwood, Long Branch\n",
      "90       M8X     Etobicoke      The Kingsway, Montgomery Road, Old Mill North\n",
      "91       M8Y     Etobicoke  Humber Bay, King's Mill Park, Kingsway Park So...\n",
      "92       M8Z     Etobicoke  Kingsway Park South West, Mimico NW, The Queen...\n",
      "93       M9A     Etobicoke                                   Islington Avenue\n",
      "94       M9B     Etobicoke  Cloverdale, Islington, Martin Grove, Princess ...\n",
      "95       M9C     Etobicoke  Bloordale Gardens, Eringate, Markland Wood, Ol...\n",
      "96       M9L    North York                                      Humber Summit\n",
      "97       M9M    North York                                   Emery, Humberlea\n",
      "98       M9N          York                                             Weston\n",
      "99       M9P     Etobicoke                                          Westmount\n",
      "100      M9R     Etobicoke  Kingsview Village, Martin Grove Gardens, Richv...\n",
      "101      M9V     Etobicoke  Albion Gardens, Beaumond Heights, Humbergate, ...\n",
      "102      M9W     Etobicoke                                          Northwest\n",
      "    Postcode       Borough                                      Neighbourhood\n",
      "83       M6R  West Toronto                             Parkdale, Roncesvalles\n",
      "84       M6S  West Toronto                                 Runnymede, Swansea\n",
      "85       M7A  Queen's Park                                       Queen's Park\n",
      "86       M7R   Mississauga              Canada Post Gateway Processing Centre\n",
      "87       M7Y  East Toronto  Business Reply Mail Processing Centre 969 Eastern\n",
      "88       M8V     Etobicoke       Humber Bay Shores, Mimico South, New Toronto\n",
      "89       M8W     Etobicoke                             Alderwood, Long Branch\n",
      "90       M8X     Etobicoke      The Kingsway, Montgomery Road, Old Mill North\n",
      "91       M8Y     Etobicoke  Humber Bay, King's Mill Park, Kingsway Park So...\n",
      "92       M8Z     Etobicoke  Kingsway Park South West, Mimico NW, The Queen...\n",
      "93       M9A     Etobicoke                                   Islington Avenue\n",
      "94       M9B     Etobicoke  Cloverdale, Islington, Martin Grove, Princess ...\n",
      "95       M9C     Etobicoke  Bloordale Gardens, Eringate, Markland Wood, Ol...\n",
      "96       M9L    North York                                      Humber Summit\n",
      "97       M9M    North York                                   Emery, Humberlea\n",
      "98       M9N          York                                             Weston\n",
      "99       M9P     Etobicoke                                          Westmount\n",
      "100      M9R     Etobicoke  Kingsview Village, Martin Grove Gardens, Richv...\n",
      "101      M9V     Etobicoke  Albion Gardens, Beaumond Heights, Humbergate, ...\n",
      "102      M9W     Etobicoke                                          Northwest\n"
     ]
    }
   ],
   "source": [
    "# Data cleansing-part2\n",
    "#Combine Neighborhoods with same Postcode and Assign Borough name to Not assigned Neighborhoods \n",
    "TWgp1=TWdf.groupby('Postcode')['Neighbourhood'].apply(lambda x: \"%s\" % ', '.join(x))\n",
    "TWgp2=TWdf.groupby('Postcode')['Borough'].apply(np.unique)\n",
    "TWNgp = pd.concat([TWgp2, TWgp1],axis=1)\n",
    "TWNew = TWNgp.reset_index() \n",
    "TWNew['Borough'] = TWNew.Borough.apply(', '.join)\n",
    "print(TWNew.tail(20))\n",
    "TWNew['Neighbourhood'].replace(\"Not assigned\", TWNew['Borough'], inplace=True)\n",
    "print(TWNew.tail(20))"
   ]
  },
  {
   "cell_type": "code",
   "execution_count": 110,
   "metadata": {},
   "outputs": [
    {
     "name": "stdout",
     "output_type": "stream",
     "text": [
      "Number of Rows and Columns in new data frame :  (103, 3)\n"
     ]
    }
   ],
   "source": [
    "print (\"Number of Rows and Columns in new data frame : \",TWNew.shape)"
   ]
  },
  {
   "cell_type": "code",
   "execution_count": null,
   "metadata": {},
   "outputs": [],
   "source": []
  },
  {
   "cell_type": "markdown",
   "metadata": {},
   "source": []
  },
  {
   "cell_type": "code",
   "execution_count": null,
   "metadata": {},
   "outputs": [],
   "source": []
  },
  {
   "cell_type": "code",
   "execution_count": null,
   "metadata": {},
   "outputs": [],
   "source": []
  },
  {
   "cell_type": "code",
   "execution_count": null,
   "metadata": {},
   "outputs": [],
   "source": []
  },
  {
   "cell_type": "code",
   "execution_count": null,
   "metadata": {},
   "outputs": [],
   "source": []
  },
  {
   "cell_type": "code",
   "execution_count": null,
   "metadata": {},
   "outputs": [],
   "source": []
  },
  {
   "cell_type": "code",
   "execution_count": null,
   "metadata": {},
   "outputs": [],
   "source": []
  }
 ],
 "metadata": {
  "kernelspec": {
   "display_name": "Python 3",
   "language": "python",
   "name": "python3"
  },
  "language_info": {
   "codemirror_mode": {
    "name": "ipython",
    "version": 3
   },
   "file_extension": ".py",
   "mimetype": "text/x-python",
   "name": "python",
   "nbconvert_exporter": "python",
   "pygments_lexer": "ipython3",
   "version": "3.6.7"
  }
 },
 "nbformat": 4,
 "nbformat_minor": 4
}
