{
 "cells": [
  {
   "cell_type": "code",
   "execution_count": 120,
   "metadata": {},
   "outputs": [],
   "source": [
    "import pandas as pd\n",
    "import numpy as np\n"
   ]
  },
  {
   "cell_type": "markdown",
   "metadata": {},
   "source": [
    "##### Capstone Project Assignment - Week3 -Part1\n",
    "In this section, downloaded the required data 'Postal codes of Canada which starts with M' from wikipedia. I used pandas library to download the file. The downloaded data was in  a table format and converted it to the required dataFrame format. Since the data contain many not assigned Boroughs and Neighborhoods, droped the not assigned Boroughs. For Not      assigned Neighborhoods, assigned the name of Borough. For multiple neighborhoods of same Postcode, combined the neighborhoods. After cleansing the data, number of rows reduced    to 103 from an initial number 288. "
   ]
  },
  {
   "cell_type": "markdown",
   "metadata": {},
   "source": [
    "# Capstone Project Assignment - Week3 -Part2\n",
    "#### In this section,reading the geographical coorrdinate file in CSV format and join the coordinates to the Neighborhood data frame. This will help us to mark the neighborhoods in a map.       "
   ]
  },
  {
   "cell_type": "code",
   "execution_count": 135,
   "metadata": {},
   "outputs": [],
   "source": [
    "#Read data from wikipedia\n",
    "wikilink=\"https://en.wikipedia.org/wiki/List_of_postal_codes_of_Canada:_M\"\n",
    "TWtable = pd.read_html(wikilink,header=0)\n",
    "TWdf=pd.DataFrame(TWtable[0])\n",
    "#print(TWdf.shape)\n",
    "#print(TWdf.head(10))"
   ]
  },
  {
   "cell_type": "code",
   "execution_count": 139,
   "metadata": {},
   "outputs": [],
   "source": [
    "# Data cleansing-part1\n",
    "# Drop all rows with Not Assigned Borough.\n",
    "TWdf.drop(TWdf[TWdf.Borough == 'Not assigned'].index, inplace=True)\n",
    "I=len(TWdf)\n",
    "#print(I)\n",
    "TWdf.index=range(I)\n",
    "#TWdf.head(20)"
   ]
  },
  {
   "cell_type": "code",
   "execution_count": 140,
   "metadata": {},
   "outputs": [],
   "source": [
    "# Data cleansing-part2\n",
    "#Combine Neighborhoods with same Postcode and Assign Borough name to Not assigned Neighborhoods \n",
    "TWgp1=TWdf.groupby('Postcode')['Neighbourhood'].apply(lambda x: \"%s\" % ', '.join(x))\n",
    "TWgp2=TWdf.groupby('Postcode')['Borough'].apply(np.unique)\n",
    "TWNgp = pd.concat([TWgp2, TWgp1],axis=1)\n",
    "TWNew = TWNgp.reset_index() \n",
    "TWNew['Borough'] = TWNew.Borough.apply(', '.join)\n",
    "#print(TWNew.tail(20))\n",
    "TWNew['Neighbourhood'].replace(\"Not assigned\", TWNew['Borough'], inplace=True)\n",
    "#print(TWNew.tail(20))\n"
   ]
  },
  {
   "cell_type": "code",
   "execution_count": 124,
   "metadata": {},
   "outputs": [
    {
     "name": "stdout",
     "output_type": "stream",
     "text": [
      "Number of Rows and Columns in new data frame :  (103, 3)\n"
     ]
    }
   ],
   "source": [
    "print (\"Number of Rows and Columns in new data frame : \",TWNew.shape)"
   ]
  },
  {
   "cell_type": "code",
   "execution_count": null,
   "metadata": {},
   "outputs": [],
   "source": []
  },
  {
   "cell_type": "code",
   "execution_count": 125,
   "metadata": {},
   "outputs": [
    {
     "name": "stdout",
     "output_type": "stream",
     "text": [
      "(103, 3)\n",
      "  Postal Code   Latitude  Longitude\n",
      "0         M1B  43.806686 -79.194353\n",
      "1         M1C  43.784535 -79.160497\n",
      "2         M1E  43.763573 -79.188711\n",
      "3         M1G  43.770992 -79.216917\n",
      "4         M1H  43.773136 -79.239476\n",
      "5         M1J  43.744734 -79.239476\n",
      "6         M1K  43.727929 -79.262029\n",
      "7         M1L  43.711112 -79.284577\n",
      "8         M1M  43.716316 -79.239476\n",
      "9         M1N  43.692657 -79.264848\n",
      "  Postcode      Borough                                    Neighbourhood\n",
      "0      M1B  Scarborough                                   Rouge, Malvern\n",
      "1      M1C  Scarborough           Highland Creek, Rouge Hill, Port Union\n",
      "2      M1E  Scarborough                Guildwood, Morningside, West Hill\n",
      "3      M1G  Scarborough                                           Woburn\n",
      "4      M1H  Scarborough                                        Cedarbrae\n",
      "5      M1J  Scarborough                              Scarborough Village\n",
      "6      M1K  Scarborough      East Birchmount Park, Ionview, Kennedy Park\n",
      "7      M1L  Scarborough                  Clairlea, Golden Mile, Oakridge\n",
      "8      M1M  Scarborough  Cliffcrest, Cliffside, Scarborough Village West\n",
      "9      M1N  Scarborough                      Birch Cliff, Cliffside West\n"
     ]
    }
   ],
   "source": [
    "#Read geographical coordinates of each postal code using the link http://cocl.us/Geospatial_data\n",
    "Geolink= \"http://cocl.us/Geospatial_data\"\n",
    "Geodf = pd.read_csv(Geolink,header=0)\n",
    "Geodf=pd.DataFrame(Geodf)\n",
    "print(Geodf.shape)\n",
    "print(Geodf.head(10))\n",
    "print(TWNew.head(10)) "
   ]
  },
  {
   "cell_type": "code",
   "execution_count": 141,
   "metadata": {},
   "outputs": [
    {
     "data": {
      "text/html": [
       "<div>\n",
       "<style scoped>\n",
       "    .dataframe tbody tr th:only-of-type {\n",
       "        vertical-align: middle;\n",
       "    }\n",
       "\n",
       "    .dataframe tbody tr th {\n",
       "        vertical-align: top;\n",
       "    }\n",
       "\n",
       "    .dataframe thead th {\n",
       "        text-align: right;\n",
       "    }\n",
       "</style>\n",
       "<table border=\"1\" class=\"dataframe\">\n",
       "  <thead>\n",
       "    <tr style=\"text-align: right;\">\n",
       "      <th></th>\n",
       "      <th>Postcode</th>\n",
       "      <th>Borough</th>\n",
       "      <th>Neighbourhood</th>\n",
       "      <th>Latitude</th>\n",
       "      <th>Longitude</th>\n",
       "    </tr>\n",
       "  </thead>\n",
       "  <tbody>\n",
       "    <tr>\n",
       "      <th>0</th>\n",
       "      <td>M1B</td>\n",
       "      <td>Scarborough</td>\n",
       "      <td>Rouge, Malvern</td>\n",
       "      <td>43.806686</td>\n",
       "      <td>-79.194353</td>\n",
       "    </tr>\n",
       "    <tr>\n",
       "      <th>1</th>\n",
       "      <td>M1C</td>\n",
       "      <td>Scarborough</td>\n",
       "      <td>Highland Creek, Rouge Hill, Port Union</td>\n",
       "      <td>43.784535</td>\n",
       "      <td>-79.160497</td>\n",
       "    </tr>\n",
       "    <tr>\n",
       "      <th>2</th>\n",
       "      <td>M1E</td>\n",
       "      <td>Scarborough</td>\n",
       "      <td>Guildwood, Morningside, West Hill</td>\n",
       "      <td>43.763573</td>\n",
       "      <td>-79.188711</td>\n",
       "    </tr>\n",
       "    <tr>\n",
       "      <th>3</th>\n",
       "      <td>M1G</td>\n",
       "      <td>Scarborough</td>\n",
       "      <td>Woburn</td>\n",
       "      <td>43.770992</td>\n",
       "      <td>-79.216917</td>\n",
       "    </tr>\n",
       "    <tr>\n",
       "      <th>4</th>\n",
       "      <td>M1H</td>\n",
       "      <td>Scarborough</td>\n",
       "      <td>Cedarbrae</td>\n",
       "      <td>43.773136</td>\n",
       "      <td>-79.239476</td>\n",
       "    </tr>\n",
       "    <tr>\n",
       "      <th>5</th>\n",
       "      <td>M1J</td>\n",
       "      <td>Scarborough</td>\n",
       "      <td>Scarborough Village</td>\n",
       "      <td>43.744734</td>\n",
       "      <td>-79.239476</td>\n",
       "    </tr>\n",
       "    <tr>\n",
       "      <th>6</th>\n",
       "      <td>M1K</td>\n",
       "      <td>Scarborough</td>\n",
       "      <td>East Birchmount Park, Ionview, Kennedy Park</td>\n",
       "      <td>43.727929</td>\n",
       "      <td>-79.262029</td>\n",
       "    </tr>\n",
       "    <tr>\n",
       "      <th>7</th>\n",
       "      <td>M1L</td>\n",
       "      <td>Scarborough</td>\n",
       "      <td>Clairlea, Golden Mile, Oakridge</td>\n",
       "      <td>43.711112</td>\n",
       "      <td>-79.284577</td>\n",
       "    </tr>\n",
       "    <tr>\n",
       "      <th>8</th>\n",
       "      <td>M1M</td>\n",
       "      <td>Scarborough</td>\n",
       "      <td>Cliffcrest, Cliffside, Scarborough Village West</td>\n",
       "      <td>43.716316</td>\n",
       "      <td>-79.239476</td>\n",
       "    </tr>\n",
       "    <tr>\n",
       "      <th>9</th>\n",
       "      <td>M1N</td>\n",
       "      <td>Scarborough</td>\n",
       "      <td>Birch Cliff, Cliffside West</td>\n",
       "      <td>43.692657</td>\n",
       "      <td>-79.264848</td>\n",
       "    </tr>\n",
       "  </tbody>\n",
       "</table>\n",
       "</div>"
      ],
      "text/plain": [
       "  Postcode      Borough                                    Neighbourhood  \\\n",
       "0      M1B  Scarborough                                   Rouge, Malvern   \n",
       "1      M1C  Scarborough           Highland Creek, Rouge Hill, Port Union   \n",
       "2      M1E  Scarborough                Guildwood, Morningside, West Hill   \n",
       "3      M1G  Scarborough                                           Woburn   \n",
       "4      M1H  Scarborough                                        Cedarbrae   \n",
       "5      M1J  Scarborough                              Scarborough Village   \n",
       "6      M1K  Scarborough      East Birchmount Park, Ionview, Kennedy Park   \n",
       "7      M1L  Scarborough                  Clairlea, Golden Mile, Oakridge   \n",
       "8      M1M  Scarborough  Cliffcrest, Cliffside, Scarborough Village West   \n",
       "9      M1N  Scarborough                      Birch Cliff, Cliffside West   \n",
       "\n",
       "    Latitude  Longitude  \n",
       "0  43.806686 -79.194353  \n",
       "1  43.784535 -79.160497  \n",
       "2  43.763573 -79.188711  \n",
       "3  43.770992 -79.216917  \n",
       "4  43.773136 -79.239476  \n",
       "5  43.744734 -79.239476  \n",
       "6  43.727929 -79.262029  \n",
       "7  43.711112 -79.284577  \n",
       "8  43.716316 -79.239476  \n",
       "9  43.692657 -79.264848  "
      ]
     },
     "execution_count": 141,
     "metadata": {},
     "output_type": "execute_result"
    }
   ],
   "source": [
    "#Join the two dataframes neighborhoods and Geographical coordinates which will help us to mark the neighborhood in a map.   \n",
    "Newdf = TWNew.join(Geodf)\n",
    "Newdf.drop(columns=['Postal Code'],inplace=True)\n",
    "Newdf.head(10)"
   ]
  },
  {
   "cell_type": "code",
   "execution_count": null,
   "metadata": {},
   "outputs": [],
   "source": []
  },
  {
   "cell_type": "code",
   "execution_count": null,
   "metadata": {},
   "outputs": [],
   "source": []
  },
  {
   "cell_type": "code",
   "execution_count": null,
   "metadata": {},
   "outputs": [],
   "source": []
  },
  {
   "cell_type": "code",
   "execution_count": null,
   "metadata": {},
   "outputs": [],
   "source": []
  },
  {
   "cell_type": "code",
   "execution_count": null,
   "metadata": {},
   "outputs": [],
   "source": []
  },
  {
   "cell_type": "code",
   "execution_count": null,
   "metadata": {},
   "outputs": [],
   "source": []
  },
  {
   "cell_type": "code",
   "execution_count": null,
   "metadata": {},
   "outputs": [],
   "source": []
  }
 ],
 "metadata": {
  "kernelspec": {
   "display_name": "Python 3",
   "language": "python",
   "name": "python3"
  },
  "language_info": {
   "codemirror_mode": {
    "name": "ipython",
    "version": 3
   },
   "file_extension": ".py",
   "mimetype": "text/x-python",
   "name": "python",
   "nbconvert_exporter": "python",
   "pygments_lexer": "ipython3",
   "version": "3.6.7"
  }
 },
 "nbformat": 4,
 "nbformat_minor": 4
}
